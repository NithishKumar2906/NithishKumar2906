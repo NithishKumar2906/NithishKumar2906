{
 "cells": [
  {
   "cell_type": "code",
   "execution_count": 1,
   "id": "3c19134d",
   "metadata": {},
   "outputs": [],
   "source": [
    "import os\n",
    "import json\n",
    "import pandas as pd\n",
    "import psycopg2"
   ]
  },
  {
   "cell_type": "markdown",
   "id": "b5b90cda",
   "metadata": {},
   "source": [
    "# Aggregate Transaction"
   ]
  },
  {
   "cell_type": "code",
   "execution_count": 2,
   "id": "2d663e40",
   "metadata": {},
   "outputs": [],
   "source": [
    "path1 = \"C:/Users/yuva6/Desktop/phonepe/pulse/data/aggregated/transaction/country/india/state/\"\n",
    "agg_tran_list = os.listdir(path1)\n",
    "\n",
    "columns1 ={\"States\":[], \"Years\":[], \"Quarter\":[], \"Transaction_type\":[], \"Transaction_count\":[],\"Transaction_amount\":[] }\n",
    "\n",
    "\n",
    "for state in agg_tran_list:\n",
    "    cur_states = path1 + state + \"/\"\n",
    "    agg_year_list = os.listdir(cur_states)\n",
    "    \n",
    "    for year in agg_year_list:\n",
    "        cur_years = cur_states + year + \"/\"\n",
    "        agg_file_list = os.listdir(cur_years)\n",
    "        \n",
    "        for file in agg_file_list:\n",
    "            cur_files = cur_years + file\n",
    "            data = open(cur_files,\"r\")\n",
    "            \n",
    "            A = json.load(data)\n",
    "            for i in A ['data']['transactionData']:\n",
    "                name = i[\"name\"]\n",
    "                count = i[\"paymentInstruments\"][0][\"count\"]\n",
    "                amount = i[\"paymentInstruments\"][0][\"amount\"]\n",
    "                columns1[\"Transaction_type\"].append(name)\n",
    "                columns1[\"Transaction_count\"].append(count)\n",
    "                columns1[\"Transaction_amount\"].append(amount)\n",
    "                columns1[\"States\"].append(state)\n",
    "                columns1[\"Years\"].append(year)\n",
    "                columns1[\"Quarter\"].append(int(file.strip(\".json\")))\n",
    "                \n",
    "\n",
    "aggre_transaction = pd.DataFrame(columns1)\n",
    "\n",
    "aggre_transaction[\"States\"] = aggre_transaction[\"States\"].str.replace(\"andaman-&-nicobar-islands\",\"Andaman & Nicobar\")\n",
    "aggre_transaction[\"States\"] = aggre_transaction[\"States\"].str.replace(\"-\",\" \")\n",
    "aggre_transaction[\"States\"] = aggre_transaction[\"States\"].str.title()\n",
    "aggre_transaction['States'] = aggre_transaction['States'].str.replace(\"Dadra & Nagar Haveli & Daman & Diu\", \"Dadra and Nagar Haveli and Daman and Diu\")"
   ]
  },
  {
   "cell_type": "markdown",
   "id": "4a309085",
   "metadata": {},
   "source": [
    "# Aggregate User"
   ]
  },
  {
   "cell_type": "code",
   "execution_count": 3,
   "id": "780390bc",
   "metadata": {},
   "outputs": [],
   "source": [
    "path2 = \"C:/Users/yuva6/Desktop/phonepe/pulse/data/aggregated/user/country/india/state/\"\n",
    "agg_user_list = os.listdir(path2)\n",
    "\n",
    "\n",
    "columns2 = {\"States\":[], \"Years\":[], \"Quarter\":[], \"Brands\":[],\"Transaction_count\":[], \"Percentage\":[]}\n",
    "\n",
    "\n",
    "for state in agg_user_list:\n",
    "    cur_states = path2+state+\"/\"\n",
    "    agg_year_list = os.listdir(cur_states)\n",
    "    \n",
    "    for year in agg_year_list:\n",
    "        cur_years = cur_states+year+\"/\"\n",
    "        agg_file_list = os.listdir(cur_years)\n",
    "        \n",
    "        for file in agg_file_list:\n",
    "            cur_files = cur_years+file\n",
    "            data = open(cur_files,\"r\")\n",
    "            B = json.load(data)\n",
    "            \n",
    "            try:\n",
    "                \n",
    "                for i in B[\"data\"][\"usersByDevice\"]:\n",
    "                    brand = i[\"brand\"]\n",
    "                    count = i[\"count\"]\n",
    "                    percentage = i[\"percentage\"]\n",
    "                    columns2[\"Brands\"].append(brand)\n",
    "                    columns2[\"Transaction_count\"].append(count)\n",
    "                    columns2[\"Percentage\"].append(percentage)\n",
    "                    columns2[\"States\"].append(state)\n",
    "                    columns2[\"Years\"].append(year)\n",
    "                    columns2[\"Quarter\"].append(int(file.strip(\".json\")))\n",
    "            \n",
    "            except:\n",
    "                pass\n",
    "\n",
    "           \n",
    "\n",
    "aggre_user = pd.DataFrame(columns2)\n",
    "\n",
    "aggre_user[\"States\"] = aggre_user[\"States\"].str.replace(\"andaman-&-nicobar-islands\",\"Andaman & Nicobar\")\n",
    "aggre_user[\"States\"] = aggre_user[\"States\"].str.replace(\"-\",\" \")\n",
    "aggre_user[\"States\"] = aggre_user[\"States\"].str.title()\n",
    "aggre_user['States'] = aggre_user['States'].str.replace(\"Dadra & Nagar Haveli & Daman & Diu\", \"Dadra and Nagar Haveli and Daman and Diu\")"
   ]
  },
  {
   "cell_type": "markdown",
   "id": "77bab452",
   "metadata": {},
   "source": [
    "# Map Transaction"
   ]
  },
  {
   "cell_type": "code",
   "execution_count": 4,
   "id": "5336e311",
   "metadata": {},
   "outputs": [],
   "source": [
    "path3 = \"C:/Users/yuva6/Desktop/phonepe/pulse/data/map/transaction/hover/country/india/state/\"\n",
    "map_tran_list = os.listdir(path3)\n",
    "\n",
    "columns3 = {\"States\":[], \"Years\":[], \"Quarter\":[],\"District\":[], \"Transaction_count\":[],\"Transaction_amount\":[]}\n",
    "\n",
    "for state in map_tran_list:\n",
    "    cur_states = path3+state+\"/\"\n",
    "    map_year_list = os.listdir(cur_states)\n",
    "    \n",
    "    for year in map_year_list:\n",
    "        cur_years = cur_states+year+\"/\"\n",
    "        map_file_list = os.listdir(cur_years)\n",
    "        \n",
    "        for file in map_file_list:\n",
    "            cur_files = cur_years+file\n",
    "            data = open(cur_files,\"r\")\n",
    "            C = json.load(data)\n",
    "\n",
    "            for i in C['data'][\"hoverDataList\"]:\n",
    "                name = i[\"name\"]\n",
    "                count = i[\"metric\"][0][\"count\"]\n",
    "                amount = i[\"metric\"][0][\"amount\"]\n",
    "                columns3[\"District\"].append(name)\n",
    "                columns3[\"Transaction_count\"].append(count)\n",
    "                columns3[\"Transaction_amount\"].append(amount)\n",
    "                columns3[\"States\"].append(state)\n",
    "                columns3[\"Years\"].append(year)\n",
    "                columns3[\"Quarter\"].append(int(file.strip(\".json\")))\n",
    "\n",
    "map_transaction = pd.DataFrame(columns3)\n",
    "\n",
    "map_transaction[\"States\"] = map_transaction[\"States\"].str.replace(\"andaman-&-nicobar-islands\",\"Andaman & Nicobar\")\n",
    "map_transaction[\"States\"] = map_transaction[\"States\"].str.replace(\"-\",\" \")\n",
    "map_transaction[\"States\"] = map_transaction[\"States\"].str.title()\n",
    "map_transaction['States'] = map_transaction['States'].str.replace(\"Dadra & Nagar Haveli & Daman & Diu\", \"Dadra and Nagar Haveli and Daman and Diu\")"
   ]
  },
  {
   "cell_type": "markdown",
   "id": "8b3e9c14",
   "metadata": {},
   "source": [
    "# Map User"
   ]
  },
  {
   "cell_type": "code",
   "execution_count": 5,
   "id": "254d792d",
   "metadata": {},
   "outputs": [],
   "source": [
    "path4 = \"C:/Users/yuva6/Desktop/phonepe/pulse/data/map/user/hover/country/india/state/\"\n",
    "map_user_list = os.listdir(path4)\n",
    "\n",
    "columns4 = {\"States\":[], \"Years\":[], \"Quarter\":[], \"Districts\":[], \"RegisteredUser\":[], \"AppOpens\":[]}\n",
    "\n",
    "for state in map_user_list:\n",
    "    cur_states = path4+state+\"/\"\n",
    "    map_year_list = os.listdir(cur_states)\n",
    "    \n",
    "    for year in map_year_list:\n",
    "        cur_years = cur_states+year+\"/\"\n",
    "        map_file_list = os.listdir(cur_years)\n",
    "        \n",
    "        for file in map_file_list:\n",
    "            cur_files = cur_years+file\n",
    "            data = open(cur_files,\"r\")\n",
    "            D = json.load(data)\n",
    "\n",
    "            for i in D[\"data\"][\"hoverData\"].items():\n",
    "                district = i[0]\n",
    "                registereduser = i[1][\"registeredUsers\"]\n",
    "                appopens = i[1][\"appOpens\"]\n",
    "                columns4[\"Districts\"].append(district)\n",
    "                columns4[\"RegisteredUser\"].append(registereduser)\n",
    "                columns4[\"AppOpens\"].append(appopens)\n",
    "                columns4[\"States\"].append(state)\n",
    "                columns4[\"Years\"].append(year)\n",
    "                columns4[\"Quarter\"].append(int(file.strip(\".json\")))\n",
    "\n",
    "map_user = pd.DataFrame(columns4)\n",
    "\n",
    "map_user[\"States\"] = map_user[\"States\"].str.replace(\"andaman-&-nicobar-islands\",\"Andaman & Nicobar\")\n",
    "map_user[\"States\"] = map_user[\"States\"].str.replace(\"-\",\" \")\n",
    "map_user[\"States\"] = map_user[\"States\"].str.title()\n",
    "map_user['States'] = map_user['States'].str.replace(\"Dadra & Nagar Haveli & Daman & Diu\", \"Dadra and Nagar Haveli and Daman and Diu\")\n"
   ]
  },
  {
   "cell_type": "markdown",
   "id": "ba7e1738",
   "metadata": {},
   "source": [
    "# Top Transaction"
   ]
  },
  {
   "cell_type": "code",
   "execution_count": 6,
   "id": "8003cc43",
   "metadata": {},
   "outputs": [],
   "source": [
    "path5 = \"C:/Users/yuva6/Desktop/phonepe/pulse/data/top/transaction/country/india/state/\"\n",
    "top_tran_list = os.listdir(path5)\n",
    "\n",
    "columns5 = {\"States\":[], \"Years\":[], \"Quarter\":[], \"Pincodes\":[], \"Transaction_count\":[], \"Transaction_amount\":[]}\n",
    "\n",
    "for state in top_tran_list:\n",
    "    cur_states = path5+state+\"/\"\n",
    "    top_year_list = os.listdir(cur_states)\n",
    "    \n",
    "    for year in top_year_list:\n",
    "        cur_years = cur_states+year+\"/\"\n",
    "        top_file_list = os.listdir(cur_years)\n",
    "        \n",
    "        for file in top_file_list:\n",
    "            cur_files = cur_years+file\n",
    "            data = open(cur_files,\"r\")\n",
    "            E = json.load(data)\n",
    "\n",
    "            for i in E[\"data\"][\"pincodes\"]:\n",
    "                entityName = i[\"entityName\"]\n",
    "                count = i[\"metric\"][\"count\"]\n",
    "                amount = i[\"metric\"][\"amount\"]\n",
    "                columns5[\"Pincodes\"].append(entityName)\n",
    "                columns5[\"Transaction_count\"].append(count)\n",
    "                columns5[\"Transaction_amount\"].append(amount)\n",
    "                columns5[\"States\"].append(state)\n",
    "                columns5[\"Years\"].append(year)\n",
    "                columns5[\"Quarter\"].append(int(file.strip(\".json\")))\n",
    "\n",
    "top_transaction = pd.DataFrame(columns5)\n",
    "\n",
    "top_transaction[\"States\"] = top_transaction[\"States\"].str.replace(\"andaman-&-nicobar-islands\",\"Andaman & Nicobar\")\n",
    "top_transaction[\"States\"] = top_transaction[\"States\"].str.replace(\"-\",\" \")\n",
    "top_transaction[\"States\"] = top_transaction[\"States\"].str.title()\n",
    "top_transaction['States'] = top_transaction['States'].str.replace(\"Dadra & Nagar Haveli & Daman & Diu\", \"Dadra and Nagar Haveli and Daman and Diu\")"
   ]
  },
  {
   "cell_type": "markdown",
   "id": "dac7056a",
   "metadata": {},
   "source": [
    " # Top User"
   ]
  },
  {
   "cell_type": "code",
   "execution_count": 8,
   "id": "db99aa11",
   "metadata": {},
   "outputs": [],
   "source": [
    "path6 = \"C:/Users/yuva6/Desktop/phonepe/pulse/data/top/user/country/india/state/\"\n",
    "top_user_list = os.listdir(path6)\n",
    "\n",
    "columns6 = {\"States\":[], \"Years\":[], \"Quarter\":[], \"Pincodes\":[], \"RegisteredUser\":[]}\n",
    "\n",
    "for state in top_user_list:\n",
    "    cur_states = path6+state+\"/\"\n",
    "    top_year_list = os.listdir(cur_states)\n",
    "\n",
    "    for year in top_year_list:\n",
    "        cur_years = cur_states+year+\"/\"\n",
    "        top_file_list = os.listdir(cur_years)\n",
    "\n",
    "        for file in top_file_list:\n",
    "            cur_files = cur_years+file\n",
    "            data = open(cur_files,\"r\")\n",
    "            F = json.load(data)\n",
    "\n",
    "            for i in F[\"data\"][\"pincodes\"]:\n",
    "                name = i[\"name\"]\n",
    "                registeredusers = i[\"registeredUsers\"]\n",
    "                columns6[\"Pincodes\"].append(name)\n",
    "                columns6[\"RegisteredUser\"].append(registereduser)\n",
    "                columns6[\"States\"].append(state)\n",
    "                columns6[\"Years\"].append(year)\n",
    "                columns6[\"Quarter\"].append(int(file.strip(\".json\")))\n",
    "\n",
    "top_user = pd.DataFrame(columns6)\n",
    "\n",
    "top_user[\"States\"] = top_user[\"States\"].str.replace(\"andaman-&-nicobar-islands\",\"Andaman & Nicobar\")\n",
    "top_user[\"States\"] = top_user[\"States\"].str.replace(\"-\",\" \")\n",
    "top_user[\"States\"] = top_user[\"States\"].str.title()\n",
    "top_user['States'] = top_user['States'].str.replace(\"Dadra & Nagar Haveli & Daman & Diu\", \"Dadra and Nagar Haveli and Daman and Diu\")"
   ]
  },
  {
   "cell_type": "markdown",
   "id": "38991cf8",
   "metadata": {},
   "source": [
    "# SQL Table Creation"
   ]
  },
  {
   "cell_type": "code",
   "execution_count": 9,
   "id": "ee176503",
   "metadata": {},
   "outputs": [],
   "source": [
    "mydb = psycopg2.connect(host = \"localhost\",\n",
    "                        user = \"postgres\",\n",
    "                        password = \"1234\",\n",
    "                        database = \"phonepe_data\",\n",
    "                        port = \"5432\"\n",
    "                        )\n",
    "cursor = mydb.cursor()"
   ]
  },
  {
   "cell_type": "markdown",
   "id": "83486db5",
   "metadata": {},
   "source": [
    "# Aggregated Transaction Table"
   ]
  },
  {
   "cell_type": "code",
   "execution_count": 10,
   "id": "c8c5f647",
   "metadata": {},
   "outputs": [],
   "source": [
    "create_query1 = '''CREATE TABLE if not exists aggregated_transaction (States varchar(50),\n",
    "                                                                      Years int,\n",
    "                                                                      Quarter int,\n",
    "                                                                      Transaction_type varchar(50),\n",
    "                                                                      Transaction_count bigint,\n",
    "                                                                      Transaction_amount bigint\n",
    "                                                                      )'''\n",
    "cursor.execute(create_query1)\n",
    "mydb.commit()\n",
    "\n",
    "\n",
    "for index,row in aggre_transaction.iterrows():\n",
    "    insert_query1 = '''INSERT INTO aggregated_transaction (States, Years, Quarter, Transaction_type, Transaction_count, Transaction_amount)\n",
    "                                                        values(%s,%s,%s,%s,%s,%s)'''\n",
    "    values = (row[\"States\"],\n",
    "              row[\"Years\"],\n",
    "              row[\"Quarter\"],\n",
    "              row[\"Transaction_type\"],\n",
    "              row[\"Transaction_count\"],\n",
    "              row[\"Transaction_amount\"]\n",
    "              )\n",
    "    cursor.execute(insert_query1,values)\n",
    "    mydb.commit()\n"
   ]
  },
  {
   "cell_type": "markdown",
   "id": "2f00eb0f",
   "metadata": {},
   "source": [
    "# Aggregated User Table"
   ]
  },
  {
   "cell_type": "code",
   "execution_count": 11,
   "id": "c59b0ccb",
   "metadata": {},
   "outputs": [],
   "source": [
    "create_query2 = '''CREATE TABLE if not exists aggregated_user (States varchar(50),\n",
    "                                                                Years int,\n",
    "                                                                Quarter int,\n",
    "                                                                Brands varchar(50),\n",
    "                                                                Transaction_count bigint,\n",
    "                                                                Percentage float)'''\n",
    "cursor.execute(create_query2)\n",
    "mydb.commit()\n",
    "\n",
    "for index,row in aggre_user.iterrows():\n",
    "    insert_query2 = '''INSERT INTO aggregated_user (States, Years, Quarter, Brands, Transaction_count, Percentage)\n",
    "                                                    values(%s,%s,%s,%s,%s,%s)'''\n",
    "    values = (row[\"States\"],\n",
    "              row[\"Years\"],\n",
    "              row[\"Quarter\"],\n",
    "              row[\"Brands\"],\n",
    "              row[\"Transaction_count\"],\n",
    "              row[\"Percentage\"])\n",
    "    cursor.execute(insert_query2,values)\n",
    "    mydb.commit()"
   ]
  },
  {
   "cell_type": "markdown",
   "id": "561fccfb",
   "metadata": {},
   "source": [
    "# Map Transaction Table"
   ]
  },
  {
   "cell_type": "code",
   "execution_count": 12,
   "id": "3d8231b2",
   "metadata": {},
   "outputs": [],
   "source": [
    "create_query3 = '''CREATE TABLE if not exists map_transaction (States varchar(50),\n",
    "                                                                Years int,\n",
    "                                                                Quarter int,\n",
    "                                                                District varchar(50),\n",
    "                                                                Transaction_count bigint,\n",
    "                                                                Transaction_amount float)'''\n",
    "cursor.execute(create_query3)\n",
    "mydb.commit()\n",
    "\n",
    "for index,row in map_transaction.iterrows():\n",
    "            insert_query3 = '''\n",
    "                INSERT INTO map_Transaction (States, Years, Quarter, District, Transaction_count, Transaction_amount)\n",
    "                VALUES (%s, %s, %s, %s, %s, %s)\n",
    "\n",
    "            '''\n",
    "            values = (\n",
    "                row['States'],\n",
    "                row['Years'],\n",
    "                row['Quarter'],\n",
    "                row['District'],\n",
    "                row['Transaction_count'],\n",
    "                row['Transaction_amount']\n",
    "            )\n",
    "            cursor.execute(insert_query3,values)\n",
    "            mydb.commit() "
   ]
  },
  {
   "cell_type": "markdown",
   "id": "0f6d56f9",
   "metadata": {},
   "source": [
    "# Map User Table"
   ]
  },
  {
   "cell_type": "code",
   "execution_count": 13,
   "id": "73668e4b",
   "metadata": {},
   "outputs": [],
   "source": [
    "create_query4 = '''CREATE TABLE if not exists map_user (States varchar(50),\n",
    "                                                        Years int,\n",
    "                                                        Quarter int,\n",
    "                                                        Districts varchar(50),\n",
    "                                                        RegisteredUser bigint,\n",
    "                                                        AppOpens bigint)'''\n",
    "cursor.execute(create_query4)\n",
    "mydb.commit()\n",
    "\n",
    "for index,row in map_user.iterrows():\n",
    "    insert_query4 = '''INSERT INTO map_user (States, Years, Quarter, Districts, RegisteredUser, AppOpens)\n",
    "                        values(%s,%s,%s,%s,%s,%s)'''\n",
    "    values = (row[\"States\"],\n",
    "              row[\"Years\"],\n",
    "              row[\"Quarter\"],\n",
    "              row[\"Districts\"],\n",
    "              row[\"RegisteredUser\"],\n",
    "              row[\"AppOpens\"])\n",
    "    cursor.execute(insert_query4,values)\n",
    "    mydb.commit()\n"
   ]
  },
  {
   "cell_type": "markdown",
   "id": "3aa0f973",
   "metadata": {},
   "source": [
    "# Top Transaction Table"
   ]
  },
  {
   "cell_type": "code",
   "execution_count": 14,
   "id": "b4f620eb",
   "metadata": {},
   "outputs": [],
   "source": [
    "create_query5 = '''CREATE TABLE if not exists top_transaction (States varchar(50),\n",
    "                                                                Years int,\n",
    "                                                                Quarter int,\n",
    "                                                                pincodes int,\n",
    "                                                                Transaction_count bigint,\n",
    "                                                                Transaction_amount bigint)'''\n",
    "cursor.execute(create_query5)\n",
    "mydb.commit()\n",
    "\n",
    "for index,row in top_transaction.iterrows():\n",
    "    insert_query5 = '''INSERT INTO top_transaction (States, Years, Quarter, Pincodes, Transaction_count, Transaction_amount)\n",
    "                                                    values(%s,%s,%s,%s,%s,%s)'''\n",
    "    values = (row[\"States\"],\n",
    "              row[\"Years\"],\n",
    "              row[\"Quarter\"],\n",
    "              row[\"Pincodes\"],\n",
    "              row[\"Transaction_count\"],\n",
    "              row[\"Transaction_amount\"])\n",
    "    cursor.execute(insert_query5,values)\n",
    "    mydb.commit()"
   ]
  },
  {
   "cell_type": "markdown",
   "id": "0fa30dbb",
   "metadata": {},
   "source": [
    "# Top User Table"
   ]
  },
  {
   "cell_type": "code",
   "execution_count": 15,
   "id": "374990dc",
   "metadata": {},
   "outputs": [],
   "source": [
    "create_query6 = '''CREATE TABLE if not exists top_user (States varchar(50),\n",
    "                                                        Years int,\n",
    "                                                        Quarter int,\n",
    "                                                        Pincodes int,\n",
    "                                                        RegisteredUser bigint\n",
    "                                                        )'''\n",
    "cursor.execute(create_query6)\n",
    "mydb.commit()\n",
    "\n",
    "for index,row in top_user.iterrows():\n",
    "    insert_query6 = '''INSERT INTO top_user (States, Years, Quarter, Pincodes, RegisteredUser)\n",
    "                                            values(%s,%s,%s,%s,%s)'''\n",
    "    values = (row[\"States\"],\n",
    "              row[\"Years\"],\n",
    "              row[\"Quarter\"],\n",
    "              row[\"Pincodes\"],\n",
    "              row[\"RegisteredUser\"])\n",
    "    cursor.execute(insert_query6,values)\n",
    "    mydb.commit()\n"
   ]
  },
  {
   "cell_type": "code",
   "execution_count": 16,
   "id": "fd7a38df",
   "metadata": {},
   "outputs": [],
   "source": [
    "import json\n",
    "import streamlit as st\n",
    "import pandas as pd\n",
    "import requests\n",
    "import psycopg2\n",
    "import plotly.express as px\n",
    "import plotly.graph_objects as go"
   ]
  },
  {
   "cell_type": "markdown",
   "id": "7a8110d1",
   "metadata": {},
   "source": [
    "# Create Dataframes From SQL"
   ]
  },
  {
   "cell_type": "code",
   "execution_count": 17,
   "id": "83054818",
   "metadata": {},
   "outputs": [],
   "source": [
    "mydb = psycopg2.connect(host = \"localhost\",\n",
    "                        user = \"postgres\",\n",
    "                        password = \"1234\",\n",
    "                        database = \"phonepe_data\",\n",
    "                        port = \"5432\"\n",
    "                        )\n",
    "cursor = mydb.cursor()"
   ]
  },
  {
   "cell_type": "markdown",
   "id": "bfce3b02",
   "metadata": {},
   "source": [
    "# Aggregated Transaction"
   ]
  },
  {
   "cell_type": "code",
   "execution_count": 18,
   "id": "908e9003",
   "metadata": {},
   "outputs": [],
   "source": [
    "cursor.execute(\"select * from aggregated_transaction;\")\n",
    "mydb.commit()\n",
    "table1 = cursor.fetchall()\n",
    "Aggre_trans = pd.DataFrame(table1,columns = (\"States\", \"Years\", \"Quarter\", \"Transaction_type\", \"Transaction_count\", \"Transaction_amount\"))"
   ]
  },
  {
   "cell_type": "markdown",
   "id": "b02c4927",
   "metadata": {},
   "source": [
    "# Aggregated User"
   ]
  },
  {
   "cell_type": "code",
   "execution_count": 19,
   "id": "c267e5aa",
   "metadata": {},
   "outputs": [],
   "source": [
    "cursor.execute(\"select * from aggregated_user;\")\n",
    "mydb.commit()\n",
    "table2 = cursor.fetchall()\n",
    "Aggre_user = pd.DataFrame(table2,columns = (\"States\", \"Years\", \"Quarter\", \"Brands\", \"Transaction_count\", \"Percentage\"))"
   ]
  },
  {
   "cell_type": "markdown",
   "id": "a99e22e1",
   "metadata": {},
   "source": [
    "# Map Transaction"
   ]
  },
  {
   "cell_type": "code",
   "execution_count": 20,
   "id": "2b391639",
   "metadata": {},
   "outputs": [],
   "source": [
    "cursor.execute(\"select * from map_transaction\")\n",
    "mydb.commit()\n",
    "table3 = cursor.fetchall()\n",
    "Map_trans = pd.DataFrame(table3,columns = (\"States\", \"Years\", \"Quarter\", \"Districts\", \"Transaction_count\", \"Transaction_amount\"))"
   ]
  },
  {
   "cell_type": "markdown",
   "id": "98e2df7c",
   "metadata": {},
   "source": [
    "# Map User"
   ]
  },
  {
   "cell_type": "code",
   "execution_count": 21,
   "id": "348340c2",
   "metadata": {},
   "outputs": [],
   "source": [
    "cursor.execute(\"select * from map_user\")\n",
    "mydb.commit()\n",
    "table4 = cursor.fetchall()\n",
    "Map_user = pd.DataFrame(table4,columns = (\"States\", \"Years\", \"Quarter\", \"Districts\", \"RegisteredUser\", \"AppOpens\"))"
   ]
  },
  {
   "cell_type": "markdown",
   "id": "448feecc",
   "metadata": {},
   "source": [
    "# Top Transaction"
   ]
  },
  {
   "cell_type": "code",
   "execution_count": 22,
   "id": "72ba53ad",
   "metadata": {},
   "outputs": [],
   "source": [
    "cursor.execute(\"select * from top_transaction\")\n",
    "mydb.commit()\n",
    "table5 = cursor.fetchall()\n",
    "Top_trans = pd.DataFrame(table5,columns = (\"States\", \"Years\", \"Quarter\", \"Pincodes\", \"Transaction_count\", \"Transaction_amount\"))"
   ]
  },
  {
   "cell_type": "markdown",
   "id": "10f341ee",
   "metadata": {},
   "source": [
    "# Top User"
   ]
  },
  {
   "cell_type": "code",
   "execution_count": 23,
   "id": "d97bb097",
   "metadata": {},
   "outputs": [],
   "source": [
    "cursor.execute(\"select * from top_user\")\n",
    "mydb.commit()\n",
    "table6 = cursor.fetchall()\n",
    "Top_user = pd.DataFrame(table6, columns = (\"States\", \"Years\", \"Quarter\", \"Pincodes\", \"RegisteredUser\"))"
   ]
  },
  {
   "cell_type": "code",
   "execution_count": 24,
   "id": "e118ab1f",
   "metadata": {},
   "outputs": [],
   "source": [
    "def animate_all_amount():\n",
    "    url = \"https://gist.githubusercontent.com/jbrobst/56c13bbbf9d97d187fea01ca62ea5112/raw/e388c4cae20aa53cb5090210a42ebb9b765c0a36/india_states.geojson\"\n",
    "    response =requests.get(url)\n",
    "    data1 = json.loads(response.content)\n",
    "    state_names_tra = [feature[\"properties\"][\"ST_NM\"] for feature in data1[\"features\"]]\n",
    "    state_names_tra.sort()\n",
    "\n",
    "    df_state_names_tra = pd.DataFrame({\"States\":state_names_tra})\n",
    "\n",
    "    frames = []\n",
    "\n",
    "    for year in Map_user[\"Years\"].unique():\n",
    "        for quarter in Aggre_trans[\"Quarter\"].unique():\n",
    "\n",
    "            at1 = Aggre_trans[(Aggre_trans[\"Years\"]==year)&(Aggre_trans[\"Quarter\"]==quarter)]\n",
    "            atf1 = at1[[\"States\",\"Transaction_amount\"]]\n",
    "            atf1 = atf1.sort_values(by=\"States\")\n",
    "            atf1[\"Years\"]=year\n",
    "            atf1[\"Quarter\"]=quarter\n",
    "            frames.append(atf1)\n",
    "\n",
    "    merged_df = pd.concat(frames)\n",
    "\n",
    "    fig_tra = px.choropleth(merged_df, geojson= data1, locations= \"States\", featureidkey= \"properties.ST_NM\", color= \"Transaction_amount\",\n",
    "                            color_continuous_scale= \"Sunsetdark\", range_color= (0,4000000000), hover_name= \"States\", title = \"TRANSACTION AMOUNT\",\n",
    "                            animation_frame=\"Years\", animation_group=\"Quarter\")\n",
    "\n",
    "    fig_tra.update_geos(fitbounds= \"locations\", visible =False)\n",
    "    fig_tra.update_layout(width =600, height= 700)\n",
    "    fig_tra.update_layout(title_font= {\"size\":25})\n",
    "    return st.plotly_chart(fig_tra)"
   ]
  },
  {
   "cell_type": "code",
   "execution_count": 25,
   "id": "5aa3b9e2",
   "metadata": {},
   "outputs": [],
   "source": [
    "def payment_count():\n",
    "    attype = Aggre_trans[[\"Transaction_type\", \"Transaction_count\"]]\n",
    "    att1 = attype.groupby(\"Transaction_type\")[\"Transaction_count\"].sum()\n",
    "    df_att1 = pd.DataFrame(att1).reset_index()\n",
    "    fig_pc = px.bar(df_att1,x= \"Transaction_type\",y= \"Transaction_count\",title= \"TRANSACTION TYPE and TRANSACTION COUNT\",\n",
    "                color_discrete_sequence=px.colors.sequential.Redor_r)\n",
    "    fig_pc.update_layout(width=600, height= 500)\n",
    "    return st.plotly_chart(fig_pc)"
   ]
  },
  {
   "cell_type": "code",
   "execution_count": 26,
   "id": "7996febe",
   "metadata": {},
   "outputs": [],
   "source": [
    "def animate_all_count():\n",
    "    url = \"https://gist.githubusercontent.com/jbrobst/56c13bbbf9d97d187fea01ca62ea5112/raw/e388c4cae20aa53cb5090210a42ebb9b765c0a36/india_states.geojson\"\n",
    "    response= requests.get(url)\n",
    "    data1= json.loads(response.content)\n",
    "    state_names_tra= [feature[\"properties\"][\"ST_NM\"]for feature in data1[\"features\"]]\n",
    "    state_names_tra.sort()\n",
    "\n",
    "    df_state_names_tra= pd.DataFrame({\"States\":state_names_tra})\n",
    "\n",
    "\n",
    "    frames= []\n",
    "\n",
    "    for year in Aggre_trans[\"Years\"].unique():\n",
    "        for quarter in Aggre_trans[\"Quarter\"].unique():\n",
    "\n",
    "            at1= Aggre_trans[(Aggre_trans[\"Years\"]==year)&(Aggre_trans[\"Quarter\"]==quarter)]\n",
    "            atf1= at1[[\"States\", \"Transaction_count\"]]\n",
    "            atf1=atf1.sort_values(by=\"States\")\n",
    "            atf1[\"Years\"]=year\n",
    "            atf1[\"Quarter\"]=quarter\n",
    "            frames.append(atf1)\n",
    "\n",
    "    merged_df = pd.concat(frames)\n",
    "\n",
    "    fig_tra= px.choropleth(merged_df, geojson= data1, locations= \"States\",featureidkey= \"properties.ST_NM\",\n",
    "                        color= \"Transaction_count\", color_continuous_scale=\"Sunsetdark\", range_color= (0,3000000),\n",
    "                        title=\"TRANSACTION COUNT\", hover_name= \"States\", animation_frame= \"Years\", animation_group= \"Quarter\")\n",
    "\n",
    "    fig_tra.update_geos(fitbounds= \"locations\", visible= False)\n",
    "    fig_tra.update_layout(width= 600, height= 700)\n",
    "    fig_tra.update_layout(title_font={\"size\":25})\n",
    "    return st.plotly_chart(fig_tra)"
   ]
  },
  {
   "cell_type": "code",
   "execution_count": 27,
   "id": "62c76988",
   "metadata": {},
   "outputs": [],
   "source": [
    "def payment_amount():\n",
    "    attype= Aggre_trans[[\"Transaction_type\",\"Transaction_amount\"]]\n",
    "    att1= attype.groupby(\"Transaction_type\")[\"Transaction_amount\"].sum()\n",
    "    df_att1= pd.DataFrame(att1).reset_index()\n",
    "    fig_tra_pa= px.bar(df_att1, x= \"Transaction_type\", y= \"Transaction_amount\", title= \"TRANSACTION TYPE and TRANSACTION AMOUNT\",\n",
    "                    color_discrete_sequence= px.colors.sequential.Blues_r)\n",
    "    fig_tra_pa.update_layout(width= 600, height= 500)\n",
    "    return st.plotly_chart(fig_tra_pa)"
   ]
  },
  {
   "cell_type": "code",
   "execution_count": 28,
   "id": "bcb2accd",
   "metadata": {},
   "outputs": [],
   "source": [
    "def reg_all_states(state):\n",
    "    mu= Map_user[[\"States\",\"Districts\",\"RegisteredUser\"]]\n",
    "    mu1= mu.loc[(mu[\"States\"]==state)]\n",
    "    mu2= mu1[[\"Districts\", \"RegisteredUser\"]]\n",
    "    mu3= mu2.groupby(\"Districts\")[\"RegisteredUser\"].sum()\n",
    "    mu4= pd.DataFrame(mu3).reset_index()\n",
    "    fig_mu= px.bar(mu4, x= \"Districts\", y= \"RegisteredUser\", title= \"DISTRICTS and REGISTERED USER\",\n",
    "                color_discrete_sequence=px.colors.sequential.Bluered_r)\n",
    "    fig_mu.update_layout(width= 1000, height= 500)\n",
    "    return st.plotly_chart(fig_mu)"
   ]
  },
  {
   "cell_type": "code",
   "execution_count": 29,
   "id": "0e81b7bb",
   "metadata": {},
   "outputs": [],
   "source": [
    "def transaction_amount_year(sel_year):\n",
    "    url= \"https://gist.githubusercontent.com/jbrobst/56c13bbbf9d97d187fea01ca62ea5112/raw/e388c4cae20aa53cb5090210a42ebb9b765c0a36/india_states.geojson\"\n",
    "    response= requests.get(url)\n",
    "    data1= json.loads(response.content)\n",
    "    state_names_tra= [feature[\"properties\"]['ST_NM']for feature in data1[\"features\"]]\n",
    "    state_names_tra.sort()\n",
    "\n",
    "    year= int(sel_year)\n",
    "    atay= Aggre_trans[[\"States\",\"Years\",\"Transaction_amount\"]]\n",
    "    atay1= atay.loc[(Aggre_trans[\"Years\"]==year)]\n",
    "    atay2= atay1.groupby(\"States\")[\"Transaction_amount\"].sum()\n",
    "    atay3= pd.DataFrame(atay2).reset_index()\n",
    "\n",
    "    fig_atay= px.choropleth(atay3, geojson= data1, locations= \"States\", featureidkey= \"properties.ST_NM\",\n",
    "                            color= \"Transaction_amount\", color_continuous_scale=\"rainbow\", range_color=(0,800000000000),\n",
    "                            title=\"TRANSACTION AMOUNT and STATES\", hover_name= \"States\")\n",
    "\n",
    "    fig_atay.update_geos(fitbounds= \"locations\", visible= False)\n",
    "    fig_atay.update_layout(width=600,height=700)\n",
    "    fig_atay.update_layout(title_font= {\"size\":25})\n",
    "    return st.plotly_chart(fig_atay)\n"
   ]
  },
  {
   "cell_type": "code",
   "execution_count": 30,
   "id": "9d60f3a4",
   "metadata": {},
   "outputs": [],
   "source": [
    "def payment_count_year(sel_year):\n",
    "    year= int(sel_year)\n",
    "    apc= Aggre_trans[[\"Transaction_type\", \"Years\", \"Transaction_count\"]]\n",
    "    apc1= apc.loc[(Aggre_trans[\"Years\"]==year)]\n",
    "    apc2= apc1.groupby(\"Transaction_type\")[\"Transaction_count\"].sum()\n",
    "    apc3= pd.DataFrame(apc2).reset_index()\n",
    "\n",
    "    fig_apc= px.bar(apc3,x= \"Transaction_type\", y= \"Transaction_count\", title= \"PAYMENT COUNT and PAYMENT TYPE\",\n",
    "                    color_discrete_sequence=px.colors.sequential.Brwnyl_r)\n",
    "    fig_apc.update_layout(width=600, height=500)\n",
    "    return st.plotly_chart(fig_apc)\n"
   ]
  },
  {
   "cell_type": "code",
   "execution_count": 31,
   "id": "055d2058",
   "metadata": {},
   "outputs": [],
   "source": [
    "def transaction_count_year(sel_year):\n",
    "    url= \"https://gist.githubusercontent.com/jbrobst/56c13bbbf9d97d187fea01ca62ea5112/raw/e388c4cae20aa53cb5090210a42ebb9b765c0a36/india_states.geojson\"\n",
    "    response= requests.get(url)\n",
    "    data1=json.loads(response.content)\n",
    "    state_names_tra= [feature[\"properties\"][\"ST_NM\"]for feature in data1[\"features\"]]\n",
    "    state_names_tra.sort()\n",
    "\n",
    "    year= int(sel_year)\n",
    "    atcy= Aggre_trans[[\"States\", \"Years\", \"Transaction_count\"]]\n",
    "    atcy1= atcy.loc[(Aggre_trans[\"Years\"]==year)]\n",
    "    atcy2= atcy1.groupby(\"States\")[\"Transaction_count\"].sum()\n",
    "    atcy3= pd.DataFrame(atcy2).reset_index()\n",
    "\n",
    "    fig_atcy= px.choropleth(atcy3, geojson=data1, locations= \"States\", featureidkey= \"properties.ST_NM\",\n",
    "                            color= \"Transaction_count\", color_continuous_scale= \"rainbow\",range_color=(0,3000000000),\n",
    "                            title= \"TRANSACTION COUNT and STATES\",hover_name= \"States\")\n",
    "    fig_atcy.update_geos(fitbounds= \"locations\", visible= False)\n",
    "    fig_atcy.update_layout(width=600, height= 700)\n",
    "    fig_atcy.update_layout(title_font={\"size\":25})\n",
    "    return st.plotly_chart(fig_atcy)"
   ]
  },
  {
   "cell_type": "code",
   "execution_count": 32,
   "id": "df6708d3",
   "metadata": {},
   "outputs": [],
   "source": [
    "def payment_amount_year(sel_year):\n",
    "    year= int(sel_year)\n",
    "    apay = Aggre_trans[[\"Years\", \"Transaction_type\", \"Transaction_amount\"]]\n",
    "    apay1= apay.loc[(Aggre_trans[\"Years\"]==year)]\n",
    "    apay2= apay1.groupby(\"Transaction_type\")[\"Transaction_amount\"].sum()\n",
    "    apay3= pd.DataFrame(apay2).reset_index()\n",
    "\n",
    "    fig_apay= px.bar(apay3, x=\"Transaction_type\", y= \"Transaction_amount\", title= \"PAYMENT TYPE and PAYMENT AMOUNT\",\n",
    "                    color_discrete_sequence=px.colors.sequential.Burg_r)\n",
    "    fig_apay.update_layout(width=600, height=500)\n",
    "    return st.plotly_chart(fig_apay)"
   ]
  },
  {
   "cell_type": "code",
   "execution_count": 33,
   "id": "6145cd46",
   "metadata": {},
   "outputs": [],
   "source": [
    "def reg_state_all_RU(sel_year,state):\n",
    "    year= int(sel_year)\n",
    "    mus= Map_user[[\"States\", \"Years\", \"Districts\", \"RegisteredUser\"]]\n",
    "    mus1= mus.loc[(Map_user[\"States\"]==state)&(Map_user[\"Years\"]==year)]\n",
    "    mus2= mus1.groupby(\"Districts\")[\"RegisteredUser\"].sum()\n",
    "    mus3= pd.DataFrame(mus2).reset_index()\n",
    "\n",
    "    fig_mus= px.bar(mus3, x= \"Districts\", y=\"RegisteredUser\", title=\"DISTRICTS and REGISTERED USER\",\n",
    "                    color_discrete_sequence=px.colors.sequential.Cividis_r)\n",
    "    fig_mus.update_layout(width= 600, height= 500)\n",
    "    return st.plotly_chart(fig_mus)"
   ]
  },
  {
   "cell_type": "code",
   "execution_count": 34,
   "id": "d0d458ba",
   "metadata": {},
   "outputs": [],
   "source": [
    "def reg_state_all_TA(sel_year,state):\n",
    "    year= int(sel_year)\n",
    "    mts= Map_trans[[\"States\", \"Years\",\"Districts\", \"Transaction_amount\"]]\n",
    "    mts1= mts.loc[(Map_trans[\"States\"]==state)&(Map_trans[\"Years\"]==year)]\n",
    "    mts2= mts1.groupby(\"Districts\")[\"Transaction_amount\"].sum()\n",
    "    mts3= pd.DataFrame(mts2).reset_index()\n",
    "\n",
    "    fig_mts= px.bar(mts3, x= \"Districts\", y= \"Transaction_amount\", title= \"DISTRICT and TRANSACTION AMOUNT\",\n",
    "                    color_discrete_sequence= px.colors.sequential.Darkmint_r)\n",
    "    fig_mts.update_layout(width= 600, height= 500)\n",
    "    return st.plotly_chart(fig_mts)"
   ]
  },
  {
   "cell_type": "code",
   "execution_count": 35,
   "id": "667725a8",
   "metadata": {},
   "outputs": [],
   "source": [
    "def ques1():\n",
    "    brand= Aggre_user[[\"Brands\",\"Transaction_count\"]]\n",
    "    brand1= brand.groupby(\"Brands\")[\"Transaction_count\"].sum().sort_values(ascending=False)\n",
    "    brand2= pd.DataFrame(brand1).reset_index()\n",
    "\n",
    "    fig_brands= px.pie(brand2, values= \"Transaction_count\", names= \"Brands\", color_discrete_sequence=px.colors.sequential.dense_r,\n",
    "                       title= \"Top Mobile Brands of Transaction_count\")\n",
    "    return st.plotly_chart(fig_brands)\n"
   ]
  },
  {
   "cell_type": "code",
   "execution_count": 36,
   "id": "b12f93a5",
   "metadata": {},
   "outputs": [],
   "source": [
    "def ques2():\n",
    "    lt= Aggre_trans[[\"States\", \"Transaction_amount\"]]\n",
    "    lt1= lt.groupby(\"States\")[\"Transaction_amount\"].sum().sort_values(ascending= True)\n",
    "    lt2= pd.DataFrame(lt1).reset_index().head(10)\n",
    "\n",
    "    fig_lts= px.bar(lt2, x= \"States\", y= \"Transaction_amount\",title= \"LOWEST TRANSACTION AMOUNT and STATES\",\n",
    "                    color_discrete_sequence= px.colors.sequential.Oranges_r)\n",
    "    return st.plotly_chart(fig_lts)\n"
   ]
  },
  {
   "cell_type": "code",
   "execution_count": 37,
   "id": "af0627c6",
   "metadata": {},
   "outputs": [],
   "source": [
    "def ques3():\n",
    "    htd= Map_trans[[\"Districts\", \"Transaction_amount\"]]\n",
    "    htd1= htd.groupby(\"Districts\")[\"Transaction_amount\"].sum().sort_values(ascending=False)\n",
    "    htd2= pd.DataFrame(htd1).head(10).reset_index()\n",
    "\n",
    "    fig_htd= px.pie(htd2, values= \"Transaction_amount\", names= \"Districts\", title=\"TOP 10 DISTRICTS OF HIGHEST TRANSACTION AMOUNT\",\n",
    "                    color_discrete_sequence=px.colors.sequential.Emrld_r)\n",
    "    return st.plotly_chart(fig_htd)"
   ]
  },
  {
   "cell_type": "code",
   "execution_count": 38,
   "id": "ab02af0f",
   "metadata": {},
   "outputs": [],
   "source": [
    "def ques4():\n",
    "    htd= Map_trans[[\"Districts\", \"Transaction_amount\"]]\n",
    "    htd1= htd.groupby(\"Districts\")[\"Transaction_amount\"].sum().sort_values(ascending=True)\n",
    "    htd2= pd.DataFrame(htd1).head(10).reset_index()\n",
    "\n",
    "    fig_htd= px.pie(htd2, values= \"Transaction_amount\", names= \"Districts\", title=\"TOP 10 DISTRICTS OF LOWEST TRANSACTION AMOUNT\",\n",
    "                    color_discrete_sequence=px.colors.sequential.Greens_r)\n",
    "    return st.plotly_chart(fig_htd)\n"
   ]
  },
  {
   "cell_type": "code",
   "execution_count": 39,
   "id": "3c045f9e",
   "metadata": {},
   "outputs": [],
   "source": [
    "def ques5():\n",
    "    sa= Map_user[[\"States\", \"AppOpens\"]]\n",
    "    sa1= sa.groupby(\"States\")[\"AppOpens\"].sum().sort_values(ascending=False)\n",
    "    sa2= pd.DataFrame(sa1).reset_index().head(10)\n",
    "\n",
    "    fig_sa= px.bar(sa2, x= \"States\", y= \"AppOpens\", title=\"Top 10 States With AppOpens\",\n",
    "                color_discrete_sequence= px.colors.sequential.deep_r)\n",
    "    return st.plotly_chart(fig_sa)"
   ]
  },
  {
   "cell_type": "code",
   "execution_count": 40,
   "id": "cc25e966",
   "metadata": {},
   "outputs": [],
   "source": [
    "def ques6():\n",
    "    sa= Map_user[[\"States\", \"AppOpens\"]]\n",
    "    sa1= sa.groupby(\"States\")[\"AppOpens\"].sum().sort_values(ascending=True)\n",
    "    sa2= pd.DataFrame(sa1).reset_index().head(10)\n",
    "\n",
    "    fig_sa= px.bar(sa2, x= \"States\", y= \"AppOpens\", title=\"lowest 10 States With AppOpens\",\n",
    "                color_discrete_sequence= px.colors.sequential.dense_r)\n",
    "    return st.plotly_chart(fig_sa)\n"
   ]
  },
  {
   "cell_type": "code",
   "execution_count": 41,
   "id": "e74d5aa8",
   "metadata": {},
   "outputs": [],
   "source": [
    "def ques7():\n",
    "    stc= Aggre_trans[[\"States\", \"Transaction_count\"]]\n",
    "    stc1= stc.groupby(\"States\")[\"Transaction_count\"].sum().sort_values(ascending=True)\n",
    "    stc2= pd.DataFrame(stc1).reset_index()\n",
    "\n",
    "    fig_stc= px.bar(stc2, x= \"States\", y= \"Transaction_count\", title= \"STATES WITH LOWEST TRANSACTION COUNT\",\n",
    "                    color_discrete_sequence= px.colors.sequential.Jet_r)\n",
    "    return st.plotly_chart(fig_stc)"
   ]
  },
  {
   "cell_type": "code",
   "execution_count": 42,
   "id": "bcc5278d",
   "metadata": {},
   "outputs": [],
   "source": [
    "def ques8():\n",
    "    stc= Aggre_trans[[\"States\", \"Transaction_count\"]]\n",
    "    stc1= stc.groupby(\"States\")[\"Transaction_count\"].sum().sort_values(ascending=False)\n",
    "    stc2= pd.DataFrame(stc1).reset_index()\n",
    "\n",
    "    fig_stc= px.bar(stc2, x= \"States\", y= \"Transaction_count\", title= \"STATES WITH HIGHEST TRANSACTION COUNT\",\n",
    "                    color_discrete_sequence= px.colors.sequential.Magenta_r)\n",
    "    return st.plotly_chart(fig_stc)"
   ]
  },
  {
   "cell_type": "code",
   "execution_count": 43,
   "id": "8eb28a48",
   "metadata": {},
   "outputs": [],
   "source": [
    "def ques9():\n",
    "    ht= Aggre_trans[[\"States\", \"Transaction_amount\"]]\n",
    "    ht1= ht.groupby(\"States\")[\"Transaction_amount\"].sum().sort_values(ascending= False)\n",
    "    ht2= pd.DataFrame(ht1).reset_index().head(10)\n",
    "\n",
    "    fig_lts= px.bar(ht2, x= \"States\", y= \"Transaction_amount\",title= \"HIGHEST TRANSACTION AMOUNT and STATES\",\n",
    "                    color_discrete_sequence= px.colors.sequential.Oranges_r)\n",
    "    return st.plotly_chart(fig_lts)"
   ]
  },
  {
   "cell_type": "code",
   "execution_count": 44,
   "id": "5e9e115d",
   "metadata": {},
   "outputs": [],
   "source": [
    "def ques10():\n",
    "    dt= Map_trans[[\"Districts\", \"Transaction_amount\"]]\n",
    "    dt1= dt.groupby(\"Districts\")[\"Transaction_amount\"].sum().sort_values(ascending=True)\n",
    "    dt2= pd.DataFrame(dt1).reset_index().head(50)\n",
    "\n",
    "    fig_dt= px.bar(dt2, x= \"Districts\", y= \"Transaction_amount\", title= \"DISTRICTS WITH LOWEST TRANSACTION AMOUNT\",\n",
    "                color_discrete_sequence= px.colors.sequential.Mint_r)\n",
    "    return st.plotly_chart(fig_dt)"
   ]
  },
  {
   "cell_type": "markdown",
   "id": "931e92ff",
   "metadata": {},
   "source": [
    "# Streamlit"
   ]
  },
  {
   "cell_type": "code",
   "execution_count": 45,
   "id": "177edc89",
   "metadata": {},
   "outputs": [
    {
     "name": "stderr",
     "output_type": "stream",
     "text": [
      "2024-01-03 11:03:07.633 \n",
      "  \u001b[33m\u001b[1mWarning:\u001b[0m to view this Streamlit app on a browser, run it with the following\n",
      "  command:\n",
      "\n",
      "    streamlit run C:\\Users\\yuva6\\anaconda3\\Lib\\site-packages\\ipykernel_launcher.py [ARGUMENTS]\n"
     ]
    }
   ],
   "source": [
    "st.set_page_config(layout= \"wide\")\n",
    "\n",
    "st.title(\"PHONEPE DATA VISUALIZATION AND EXPLORATION\")\n",
    "tab1, tab2, tab3 = st.tabs([\"***HOME***\",\"***EXPLORE DATA***\",\"***TOP CHARTS***\"])\n",
    "\n",
    "with tab1:\n",
    "    col1,col2= st.columns(2)\n",
    "\n",
    "    with col1:\n",
    "        st.header(\"PHONEPE\")\n",
    "        st.subheader(\"INDIA'S BEST TRANSACTION APP\")\n",
    "        st.markdown(\"PhonePe  is an Indian digital payments and financial technology company\")\n",
    "        st.write(\"****FEATURES****\")\n",
    "        st.write(\"   **-> Credit & Debit card linking**\")\n",
    "        st.write(\"   **-> Bank Balance check**\")\n",
    "        st.write(\"   **->Money Storage**\")\n",
    "        st.write(\"   **->PIN Authorization**\")\n",
    "        st.download_button(\"DOWNLOAD THE APP NOW\", \"https://www.phonepe.com/app-download/\")\n",
    "    with col2:\n",
    "        st.image(\"C:\\\\Users\\\\yuva6\\\\Desktop\\\\phonepe\\\\phonepe-logo-icon.png\")\n",
    "\n",
    "    col3,col4= st.columns(2)\n",
    "    \n",
    "   \n",
    "    with col3:\n",
    "        st.video(\"C:\\\\Users\\\\yuva6\\\\Desktop\\\\phonepe\\\\phonePe Tamil.mp4\")\n",
    "        \n",
    "   \n",
    "    \n",
    "\n",
    "    with col4:\n",
    "        st.write(\"**-> Easy Transactions**\")\n",
    "        st.write(\"**-> One App For All Your Payments**\")\n",
    "        st.write(\"**-> Your Bank Account Is All You Need**\")\n",
    "        st.write(\"**-> Multiple Payment Modes**\")\n",
    "        st.write(\"**-> PhonePe Merchants**\")\n",
    "        st.write(\"**-> Multiple Ways To Pay**\")\n",
    "        st.write(\"**-> 1.Direct Transfer & More**\")\n",
    "        st.write(\"**-> 2.QR Code**\")\n",
    "        st.write(\"**-> Earn Great Rewards**\")\n",
    "\n",
    "    col5,col6= st.columns(2)\n",
    "\n",
    "    with col5:\n",
    "        st.markdown(\" \")\n",
    "        st.markdown(\" \")\n",
    "        st.markdown(\" \")\n",
    "        st.markdown(\" \")\n",
    "        st.markdown(\" \")\n",
    "        st.markdown(\" \")\n",
    "        st.markdown(\" \")\n",
    "        st.markdown(\" \")\n",
    "        st.markdown(\" \")\n",
    "        st.write(\"**->No Wallet Top-Up Required**\")\n",
    "        st.write(\"**->Pay Directly From Any Bank To Any Bank A/C**\")\n",
    "        st.write(\"**->Instantly & Free**\")\n",
    "        \n",
    "        \n",
    "    with col6:\n",
    "        st.image(\"C:\\\\Users\\\\yuva6\\\\Desktop\\\\phonepe\\\\phonepe-logo-icon.png\")\n",
    "        \n",
    "        \n",
    "\n",
    "with tab2:\n",
    "    sel_year = st.selectbox(\"select the Year\",(\"All\", \"2018\", \"2019\", \"2020\", \"2021\", \"2022\", \"2023\"))\n",
    "    if sel_year == \"All\" :\n",
    "        col1, col2 = st.columns(2)\n",
    "        with col1:\n",
    "            animate_all_amount()\n",
    "            payment_count()\n",
    "            \n",
    "        with col2:\n",
    "            animate_all_count()\n",
    "            payment_amount()\n",
    "\n",
    "        state=st.selectbox(\"selecet the state\",('Andaman & Nicobar', 'Andhra Pradesh', 'Arunachal Pradesh',\n",
    "                                                'Assam', 'Bihar', 'Chandigarh', 'Chhattisgarh',\n",
    "                                                'Dadra and Nagar Haveli and Daman and Diu', 'Delhi', 'Goa',\n",
    "                                                'Gujarat', 'Haryana', 'Himachal Pradesh', 'Jammu & Kashmir',\n",
    "                                                'Jharkhand', 'Karnataka', 'Kerala', 'Ladakh', 'Lakshadweep',\n",
    "                                                'Madhya Pradesh', 'Maharashtra', 'Manipur', 'Meghalaya', 'Mizoram',\n",
    "                                                'Nagaland', 'Odisha', 'Puducherry', 'Punjab', 'Rajasthan',\n",
    "                                                'Sikkim', 'Tamil Nadu', 'Telangana', 'Tripura', 'Uttar Pradesh',\n",
    "                                                'Uttarakhand', 'West Bengal'))\n",
    "        reg_all_states(state)\n",
    "\n",
    "    else:\n",
    "        col1,col2= st.columns(2)\n",
    "\n",
    "        with col1:\n",
    "            transaction_amount_year(sel_year)\n",
    "            payment_count_year(sel_year)\n",
    "\n",
    "        with col2:\n",
    "            transaction_count_year(sel_year)\n",
    "            payment_amount_year(sel_year)\n",
    "            state= st.selectbox(\"selecet the state\",('Andaman & Nicobar', 'Andhra Pradesh', 'Arunachal Pradesh',\n",
    "                                                'Assam', 'Bihar', 'Chandigarh', 'Chhattisgarh',\n",
    "                                                'Dadra and Nagar Haveli and Daman and Diu', 'Delhi', 'Goa',\n",
    "                                                'Gujarat', 'Haryana', 'Himachal Pradesh', 'Jammu & Kashmir',\n",
    "                                                'Jharkhand', 'Karnataka', 'Kerala', 'Ladakh', 'Lakshadweep',\n",
    "                                                'Madhya Pradesh', 'Maharashtra', 'Manipur', 'Meghalaya', 'Mizoram',\n",
    "                                                'Nagaland', 'Odisha', 'Puducherry', 'Punjab', 'Rajasthan',\n",
    "                                                'Sikkim', 'Tamil Nadu', 'Telangana', 'Tripura', 'Uttar Pradesh',\n",
    "                                                'Uttarakhand', 'West Bengal'))\n",
    "            reg_state_all_RU(sel_year,state)\n",
    "            reg_state_all_TA(sel_year,state)\n",
    "\n",
    "with tab3:\n",
    "    ques= st.selectbox(\"select the question\",('Top Brands Of Mobiles Used','States With Lowest Trasaction Amount',\n",
    "                                  'Districts With Highest Transaction Amount','Top 10 Districts With Lowest Transaction Amount',\n",
    "                                  'Top 10 States With AppOpens','Least 10 States With AppOpens','States With Lowest Trasaction Count',\n",
    "                                 'States With Highest Trasaction Count','States With Highest Trasaction Amount',\n",
    "                                 'Top 50 Districts With Lowest Transaction Amount'))\n",
    "    if ques==\"Top Brands Of Mobiles Used\":\n",
    "        ques1()\n",
    "\n",
    "    elif ques==\"States With Lowest Trasaction Amount\":\n",
    "        ques2()\n",
    "\n",
    "    elif ques==\"Districts With Highest Transaction Amount\":\n",
    "        ques3()\n",
    "\n",
    "    elif ques==\"Top 10 Districts With Lowest Transaction Amount\":\n",
    "        ques4()\n",
    "\n",
    "    elif ques==\"Top 10 States With AppOpens\":\n",
    "        ques5()\n",
    "\n",
    "    elif ques==\"Least 10 States With AppOpens\":\n",
    "        ques6()\n",
    "\n",
    "    elif ques==\"States With Lowest Trasaction Count\":\n",
    "        ques7()\n",
    "\n",
    "    elif ques==\"States With Highest Trasaction Count\":\n",
    "        ques8()\n",
    "\n",
    "    elif ques==\"States With Highest Trasaction Amount\":\n",
    "        ques9()\n",
    "\n",
    "    elif ques==\"Top 50 Districts With Lowest Transaction Amount\":\n",
    "        ques10()"
   ]
  },
  {
   "cell_type": "code",
   "execution_count": null,
   "id": "75805756",
   "metadata": {},
   "outputs": [],
   "source": []
  }
 ],
 "metadata": {
  "kernelspec": {
   "display_name": "Python 3 (ipykernel)",
   "language": "python",
   "name": "python3"
  },
  "language_info": {
   "codemirror_mode": {
    "name": "ipython",
    "version": 3
   },
   "file_extension": ".py",
   "mimetype": "text/x-python",
   "name": "python",
   "nbconvert_exporter": "python",
   "pygments_lexer": "ipython3",
   "version": "3.11.5"
  }
 },
 "nbformat": 4,
 "nbformat_minor": 5
}
